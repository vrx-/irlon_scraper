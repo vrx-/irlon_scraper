{
 "cells": [
  {
   "cell_type": "code",
   "execution_count": 2,
   "id": "be8cb4cf",
   "metadata": {},
   "outputs": [],
   "source": [
    "import sys\n",
    "sys.path.append('./')\n",
    "import irlon\n",
    "from datetime import datetime\n",
    "# import pandas as pd\n",
    "# import requests\n",
    "# import dateutil.parser\n",
    "# from datetime import datetime\n",
    "# import io"
   ]
  },
  {
   "cell_type": "code",
   "execution_count": 3,
   "id": "11d9b84e",
   "metadata": {},
   "outputs": [
    {
     "name": "stdout",
     "output_type": "stream",
     "text": [
      "CDOM\n",
      "CDOM+Fluorescence\n",
      "Chlorophyll\n",
      "Chlorophyll+(blue)+fluorescence\n",
      "Phycocyanin+fluorescence\n",
      "Turbidity\n",
      "Dissolved+oxygen\n",
      "Oxygen+saturation\n",
      "Specific+conductance\n",
      "Water+temperature\n",
      "pH\n",
      "Nitrate\n",
      "Phosphate\n",
      "Water+pressure\n",
      "Instrument+depth\n"
     ]
    }
   ],
   "source": [
    "irlon.params()"
   ]
  },
  {
   "cell_type": "code",
   "execution_count": 4,
   "id": "bf1e4d1e",
   "metadata": {},
   "outputs": [
    {
     "name": "stdout",
     "output_type": "stream",
     "text": [
      "https://irlon.org/services/download.php?time=2021-07-12T00:00-04:00/2021-08-24T19:04-04:00&tz=est&standard=true&output=csv&pretty=true&parameters[]=LO-L1S-WQ+Phycocyanin+fluorescence\n"
     ]
    }
   ],
   "source": [
    "# only surface phyco for all time since begining\n",
    "# level: 'S', 'B' or 'both'\n",
    "df = irlon.get_irlon(params='Phycocyanin+fluorescence', level='S')\n",
    "# apply mask\n",
    "df = irlon.apply_qc(df)\n",
    "## save file\n",
    "# df.to_csv('irlon_%s.csv' % datetime.now().strftime('%Y-%m-%d'))"
   ]
  },
  {
   "cell_type": "code",
   "execution_count": 5,
   "id": "6a53682b",
   "metadata": {},
   "outputs": [
    {
     "data": {
      "text/html": [
       "<div>\n",
       "<style scoped>\n",
       "    .dataframe tbody tr th:only-of-type {\n",
       "        vertical-align: middle;\n",
       "    }\n",
       "\n",
       "    .dataframe tbody tr th {\n",
       "        vertical-align: top;\n",
       "    }\n",
       "\n",
       "    .dataframe thead th {\n",
       "        text-align: right;\n",
       "    }\n",
       "</style>\n",
       "<table border=\"1\" class=\"dataframe\">\n",
       "  <thead>\n",
       "    <tr style=\"text-align: right;\">\n",
       "      <th></th>\n",
       "      <th>LO-L1S-WQ Phycocyanin fluorescence (RFU)</th>\n",
       "    </tr>\n",
       "    <tr>\n",
       "      <th>Time (est)</th>\n",
       "      <th></th>\n",
       "    </tr>\n",
       "  </thead>\n",
       "  <tbody>\n",
       "    <tr>\n",
       "      <th>2021-07-11 23:00:00</th>\n",
       "      <td>10.68</td>\n",
       "    </tr>\n",
       "    <tr>\n",
       "      <th>2021-07-12 00:00:00</th>\n",
       "      <td>10.51</td>\n",
       "    </tr>\n",
       "    <tr>\n",
       "      <th>2021-07-12 01:00:00</th>\n",
       "      <td>10.28</td>\n",
       "    </tr>\n",
       "    <tr>\n",
       "      <th>2021-07-12 02:00:00</th>\n",
       "      <td>11.02</td>\n",
       "    </tr>\n",
       "    <tr>\n",
       "      <th>2021-07-12 03:00:00</th>\n",
       "      <td>10.22</td>\n",
       "    </tr>\n",
       "    <tr>\n",
       "      <th>...</th>\n",
       "      <td>...</td>\n",
       "    </tr>\n",
       "    <tr>\n",
       "      <th>2021-08-24 12:00:00</th>\n",
       "      <td>13.38</td>\n",
       "    </tr>\n",
       "    <tr>\n",
       "      <th>2021-08-24 13:00:00</th>\n",
       "      <td>13.22</td>\n",
       "    </tr>\n",
       "    <tr>\n",
       "      <th>2021-08-24 14:00:00</th>\n",
       "      <td>13.34</td>\n",
       "    </tr>\n",
       "    <tr>\n",
       "      <th>2021-08-24 15:00:00</th>\n",
       "      <td>21.73</td>\n",
       "    </tr>\n",
       "    <tr>\n",
       "      <th>2021-08-24 16:00:00</th>\n",
       "      <td>25.80</td>\n",
       "    </tr>\n",
       "  </tbody>\n",
       "</table>\n",
       "<p>1040 rows × 1 columns</p>\n",
       "</div>"
      ],
      "text/plain": [
       "                     LO-L1S-WQ Phycocyanin fluorescence (RFU)\n",
       "Time (est)                                                   \n",
       "2021-07-11 23:00:00                                     10.68\n",
       "2021-07-12 00:00:00                                     10.51\n",
       "2021-07-12 01:00:00                                     10.28\n",
       "2021-07-12 02:00:00                                     11.02\n",
       "2021-07-12 03:00:00                                     10.22\n",
       "...                                                       ...\n",
       "2021-08-24 12:00:00                                     13.38\n",
       "2021-08-24 13:00:00                                     13.22\n",
       "2021-08-24 14:00:00                                     13.34\n",
       "2021-08-24 15:00:00                                     21.73\n",
       "2021-08-24 16:00:00                                     25.80\n",
       "\n",
       "[1040 rows x 1 columns]"
      ]
     },
     "execution_count": 5,
     "metadata": {},
     "output_type": "execute_result"
    }
   ],
   "source": [
    "df"
   ]
  },
  {
   "cell_type": "code",
   "execution_count": 6,
   "id": "01b658b9",
   "metadata": {},
   "outputs": [
    {
     "data": {
      "text/plain": [
       "<AxesSubplot:xlabel='Time (est)'>"
      ]
     },
     "execution_count": 6,
     "metadata": {},
     "output_type": "execute_result"
    },
    {
     "data": {
      "image/png": "[encoded data removed]",
      "text/plain": [
       "<Figure size 432x288 with 1 Axes>"
      ]
     },
     "metadata": {
      "needs_background": "light"
     },
     "output_type": "display_data"
    }
   ],
   "source": [
    "df.plot()"
   ]
  },
  {
   "cell_type": "code",
   "execution_count": null,
   "id": "1b48e765",
   "metadata": {},
   "outputs": [],
   "source": []
  }
 ],
 "metadata": {
  "kernelspec": {
   "display_name": "Python 3",
   "language": "python",
   "name": "python3"
  },
  "language_info": {
   "codemirror_mode": {
    "name": "ipython",
    "version": 3
   },
   "file_extension": ".py",
   "mimetype": "text/x-python",
   "name": "python",
   "nbconvert_exporter": "python",
   "pygments_lexer": "ipython3",
   "version": "3.7.10"
  }
 },
 "nbformat": 4,
 "nbformat_minor": 5
}
